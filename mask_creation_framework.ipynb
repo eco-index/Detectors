{
 "cells": [
  {
   "cell_type": "code",
   "execution_count": 1,
   "id": "b99566b0-36ba-4c9a-a449-d0fac7be6a9f",
   "metadata": {},
   "outputs": [],
   "source": [
    "from mask_creation_functions import *\n",
    "from geo_support import geotiff_to_png"
   ]
  },
  {
   "cell_type": "code",
   "execution_count": 2,
   "id": "3c014f9e-02b2-4d10-a02d-a7d24e618ef3",
   "metadata": {
    "tags": []
   },
   "outputs": [
    {
     "name": "stdout",
     "output_type": "stream",
     "text": [
      "[False, CRS.from_epsg(3857), BoundingBox(left=19430904.08362561, bottom=-4578883.741752988, right=19567879.238293625, top=-4461476.46632326), <Derived Projected CRS: EPSG:2193>\n",
      "Name: NZGD2000 / New Zealand Transverse Mercator 2000\n",
      "Axis Info [cartesian]:\n",
      "- N[north]: Northing (metre)\n",
      "- E[east]: Easting (metre)\n",
      "Area of Use:\n",
      "- name: New Zealand - North Island, South Island, Stewart Island - onshore.\n",
      "- bounds: (166.37, -47.33, 178.63, -34.1)\n",
      "Coordinate Operation:\n",
      "- name: New Zealand Transverse Mercator 2000\n",
      "- method: Transverse Mercator\n",
      "Datum: New Zealand Geodetic Datum 2000\n",
      "- Ellipsoid: GRS 1980\n",
      "- Prime Meridian: Greenwich\n",
      ", array([1744469.9344    , 5790960.08593192, 1846970.6209698 ,\n",
      "       5886217.1741167 ])]\n"
     ]
    }
   ],
   "source": [
    "bounds = check_bounds_crs('Waikato Merged.tiff', 'LCDB_Wetlands_Waikato_square.shp')\n",
    "print(bounds)"
   ]
  },
  {
   "cell_type": "code",
   "execution_count": null,
   "id": "f17660a4-dda5-42f4-b46a-2234ac5b966e",
   "metadata": {},
   "outputs": [],
   "source": [
    "#### Note don't need to run this as the LCDB comes in with 2193 but can run if we use a different shapefile\n",
    "\n",
    "#convert shapefile crs. inputs: shapefile to be converted, crs\n",
    "mask = change_mask_crs('LCDB Indegenous Forest Waikato.shp', image.crs)"
   ]
  },
  {
   "cell_type": "code",
   "execution_count": 4,
   "id": "2c2acccd-e6bb-4449-ab60-a723e395938b",
   "metadata": {
    "collapsed": true,
    "jupyter": {
     "outputs_hidden": true
    },
    "tags": []
   },
   "outputs": [
    {
     "ename": "CRSError",
     "evalue": "The PROJ4 dict could not be understood. OGR Error code 5",
     "output_type": "error",
     "traceback": [
      "\u001b[0;31m---------------------------------------------------------------------------\u001b[0m",
      "\u001b[0;31mCPLE_BaseError\u001b[0m                            Traceback (most recent call last)",
      "File \u001b[0;32mrasterio/crs.pyx:691\u001b[0m, in \u001b[0;36mrasterio.crs.CRS.from_dict\u001b[0;34m()\u001b[0m\n",
      "File \u001b[0;32mrasterio/_err.pyx:205\u001b[0m, in \u001b[0;36mrasterio._err.exc_wrap_ogrerr\u001b[0;34m()\u001b[0m\n",
      "\u001b[0;31mCPLE_BaseError\u001b[0m: OGR Error code 5",
      "\nDuring handling of the above exception, another exception occurred:\n",
      "\u001b[0;31mCRSError\u001b[0m                                  Traceback (most recent call last)",
      "Cell \u001b[0;32mIn [4], line 2\u001b[0m\n\u001b[1;32m      1\u001b[0m \u001b[38;5;66;03m#creates new raster with changed crs, inputs: original raster image, crs\u001b[39;00m\n\u001b[0;32m----> 2\u001b[0m new_image \u001b[38;5;241m=\u001b[39m \u001b[43mchange_image_crs\u001b[49m\u001b[43m(\u001b[49m\u001b[38;5;124;43m'\u001b[39;49m\u001b[38;5;124;43mWaikato Merged.tiff\u001b[39;49m\u001b[38;5;124;43m'\u001b[39;49m\u001b[43m,\u001b[49m\u001b[43m \u001b[49m\u001b[38;5;124;43m'\u001b[39;49m\u001b[38;5;124;43mESPG:2193\u001b[39;49m\u001b[38;5;124;43m'\u001b[39;49m\u001b[43m)\u001b[49m\n",
      "File \u001b[0;32m~/Documents/10 Eco Index/Temporal_Analysis/mask_creation_functions.py:43\u001b[0m, in \u001b[0;36mchange_image_crs\u001b[0;34m(image_name, to_crs)\u001b[0m\n\u001b[1;32m     41\u001b[0m dstCrs \u001b[38;5;241m=\u001b[39m {\u001b[38;5;124m'\u001b[39m\u001b[38;5;124minit\u001b[39m\u001b[38;5;124m'\u001b[39m: to_crs}\n\u001b[1;32m     42\u001b[0m \u001b[38;5;66;03m#calculate transform array and shape of reprojected raster\u001b[39;00m\n\u001b[0;32m---> 43\u001b[0m transform, width, height \u001b[38;5;241m=\u001b[39m \u001b[43mcalculate_default_transform\u001b[49m\u001b[43m(\u001b[49m\u001b[43mimage\u001b[49m\u001b[38;5;241;43m.\u001b[39;49m\u001b[43mcrs\u001b[49m\u001b[43m,\u001b[49m\u001b[43m \u001b[49m\u001b[43mdstCrs\u001b[49m\u001b[43m,\u001b[49m\u001b[43m \u001b[49m\u001b[43mimage\u001b[49m\u001b[38;5;241;43m.\u001b[39;49m\u001b[43mwidth\u001b[49m\u001b[43m,\u001b[49m\u001b[43m \u001b[49m\u001b[43mimage\u001b[49m\u001b[38;5;241;43m.\u001b[39;49m\u001b[43mheight\u001b[49m\u001b[43m,\u001b[49m\u001b[43m \u001b[49m\u001b[38;5;241;43m*\u001b[39;49m\u001b[43mimage\u001b[49m\u001b[38;5;241;43m.\u001b[39;49m\u001b[43mbounds\u001b[49m\u001b[43m)\u001b[49m\n\u001b[1;32m     45\u001b[0m \u001b[38;5;66;03m#working of the meta for the destination raster\u001b[39;00m\n\u001b[1;32m     46\u001b[0m kwargs \u001b[38;5;241m=\u001b[39m image\u001b[38;5;241m.\u001b[39mmeta\u001b[38;5;241m.\u001b[39mcopy()\n",
      "File \u001b[0;32m~/.local/share/virtualenvs/Temporal_Analysis--4m5AqKd/lib/python3.8/site-packages/rasterio/env.py:392\u001b[0m, in \u001b[0;36mensure_env.<locals>.wrapper\u001b[0;34m(*args, **kwds)\u001b[0m\n\u001b[1;32m    390\u001b[0m \u001b[38;5;28;01melse\u001b[39;00m:\n\u001b[1;32m    391\u001b[0m     \u001b[38;5;28;01mwith\u001b[39;00m Env\u001b[38;5;241m.\u001b[39mfrom_defaults():\n\u001b[0;32m--> 392\u001b[0m         \u001b[38;5;28;01mreturn\u001b[39;00m \u001b[43mf\u001b[49m\u001b[43m(\u001b[49m\u001b[38;5;241;43m*\u001b[39;49m\u001b[43margs\u001b[49m\u001b[43m,\u001b[49m\u001b[43m \u001b[49m\u001b[38;5;241;43m*\u001b[39;49m\u001b[38;5;241;43m*\u001b[39;49m\u001b[43mkwds\u001b[49m\u001b[43m)\u001b[49m\n",
      "File \u001b[0;32m~/.local/share/virtualenvs/Temporal_Analysis--4m5AqKd/lib/python3.8/site-packages/rasterio/warp.py:488\u001b[0m, in \u001b[0;36mcalculate_default_transform\u001b[0;34m(src_crs, dst_crs, width, height, left, bottom, right, top, gcps, rpcs, resolution, dst_width, dst_height, **kwargs)\u001b[0m\n\u001b[1;32m    485\u001b[0m \u001b[38;5;28;01mif\u001b[39;00m resolution \u001b[38;5;129;01mand\u001b[39;00m dimensions:\n\u001b[1;32m    486\u001b[0m     \u001b[38;5;28;01mraise\u001b[39;00m \u001b[38;5;167;01mValueError\u001b[39;00m(\u001b[38;5;124m\"\u001b[39m\u001b[38;5;124mResolution cannot be used with dst_width and dst_height.\u001b[39m\u001b[38;5;124m\"\u001b[39m)\n\u001b[0;32m--> 488\u001b[0m dst_affine, dst_width, dst_height \u001b[38;5;241m=\u001b[39m \u001b[43m_calculate_default_transform\u001b[49m\u001b[43m(\u001b[49m\n\u001b[1;32m    489\u001b[0m \u001b[43m    \u001b[49m\u001b[43msrc_crs\u001b[49m\u001b[43m,\u001b[49m\u001b[43m \u001b[49m\u001b[43mdst_crs\u001b[49m\u001b[43m,\u001b[49m\u001b[43m \u001b[49m\u001b[43mwidth\u001b[49m\u001b[43m,\u001b[49m\u001b[43m \u001b[49m\u001b[43mheight\u001b[49m\u001b[43m,\u001b[49m\u001b[43m \u001b[49m\u001b[43mleft\u001b[49m\u001b[43m,\u001b[49m\u001b[43m \u001b[49m\u001b[43mbottom\u001b[49m\u001b[43m,\u001b[49m\u001b[43m \u001b[49m\u001b[43mright\u001b[49m\u001b[43m,\u001b[49m\u001b[43m \u001b[49m\u001b[43mtop\u001b[49m\u001b[43m,\u001b[49m\u001b[43m \u001b[49m\u001b[43mgcps\u001b[49m\u001b[43m,\u001b[49m\u001b[43m \u001b[49m\u001b[43mrpcs\u001b[49m\u001b[43m,\u001b[49m\u001b[43m \u001b[49m\u001b[38;5;241;43m*\u001b[39;49m\u001b[38;5;241;43m*\u001b[39;49m\u001b[43mkwargs\u001b[49m\n\u001b[1;32m    490\u001b[0m \u001b[43m\u001b[49m\u001b[43m)\u001b[49m\n\u001b[1;32m    492\u001b[0m \u001b[38;5;66;03m# If resolution is specified, Keep upper-left anchored\u001b[39;00m\n\u001b[1;32m    493\u001b[0m \u001b[38;5;66;03m# adjust the transform resolutions\u001b[39;00m\n\u001b[1;32m    494\u001b[0m \u001b[38;5;66;03m# adjust the width/height by the ratio of estimated:specified res (ceil'd)\u001b[39;00m\n\u001b[1;32m    495\u001b[0m \u001b[38;5;28;01mif\u001b[39;00m resolution:\n\u001b[1;32m    496\u001b[0m     \u001b[38;5;66;03m# resolutions argument into tuple\u001b[39;00m\n",
      "File \u001b[0;32mrasterio/_warp.pyx:646\u001b[0m, in \u001b[0;36mrasterio._warp._calculate_default_transform\u001b[0;34m()\u001b[0m\n",
      "File \u001b[0;32mrasterio/crs.pyx:768\u001b[0m, in \u001b[0;36mrasterio.crs.CRS.from_user_input\u001b[0;34m()\u001b[0m\n",
      "File \u001b[0;32mrasterio/crs.pyx:104\u001b[0m, in \u001b[0;36mrasterio.crs.CRS.__init__\u001b[0;34m()\u001b[0m\n",
      "File \u001b[0;32mrasterio/crs.pyx:693\u001b[0m, in \u001b[0;36mrasterio.crs.CRS.from_dict\u001b[0;34m()\u001b[0m\n",
      "\u001b[0;31mCRSError\u001b[0m: The PROJ4 dict could not be understood. OGR Error code 5"
     ]
    }
   ],
   "source": [
    "#creates new raster with changed crs, inputs: original raster image, crs\n",
    "new_image = change_image_crs('Waikato Merged.tiff', 'ESPG:2193')"
   ]
  },
  {
   "cell_type": "code",
   "execution_count": 5,
   "id": "4b3d7055-0e87-4d0a-8f6e-666a9bceecc8",
   "metadata": {},
   "outputs": [],
   "source": [
    "new_image = 'image_new_crs.tif'"
   ]
  },
  {
   "cell_type": "code",
   "execution_count": 6,
   "id": "e6075a0c-1d20-42bf-b1d8-4c6a5fc399fb",
   "metadata": {},
   "outputs": [],
   "source": [
    "#note not needed if both files have perfect overlap on each other\n",
    "\n",
    "#crops down raster and shapefile by percentage of raster. inputs: raster, shapefile, clipping percent in decimal\n",
    "clipped_image, clipped_mask = clipping_box(new_image, 'LCDB_Wetlands_Waikato_square.shp', 0.05)"
   ]
  },
  {
   "cell_type": "code",
   "execution_count": null,
   "id": "759b1efd-c178-433f-9bec-197eb0c154f7",
   "metadata": {},
   "outputs": [],
   "source": [
    "from osgeo import gdal\n",
    "import numpy as np\n",
    "ds = gdal.Open('image_cropped.tif')\n",
    "imagenp = np.array(ds.ReadAsArray())\n"
   ]
  },
  {
   "cell_type": "code",
   "execution_count": null,
   "id": "b68a011d-177e-4d8f-8b21-8b1940807a17",
   "metadata": {},
   "outputs": [],
   "source": [
    "print(imagenp.shape)\n",
    "np.save('image_numpy.npy', imagenp)"
   ]
  },
  {
   "cell_type": "code",
   "execution_count": null,
   "id": "310da472-e979-49fd-be72-6327d8c7497a",
   "metadata": {},
   "outputs": [],
   "source": [
    "#creates png file from raster. inputs: raster geotiff, output png name\n",
    "geotiff_to_png(clipped_image, 'waikato_crop.png')"
   ]
  },
  {
   "cell_type": "code",
   "execution_count": 7,
   "id": "eddc0f68-7440-4e6d-ae9d-b5b81a64dd24",
   "metadata": {},
   "outputs": [],
   "source": [
    "#shapefile to geotiff raster. inputs: raster image (for reference size), shapefile to be converted\n",
    "shapetiff_name = shape_to_tiff(clipped_image, clipped_mask)"
   ]
  },
  {
   "cell_type": "code",
   "execution_count": 8,
   "id": "724250bf-cd2f-4f36-ab58-0da47f7eeb3e",
   "metadata": {},
   "outputs": [],
   "source": [
    "#convert geotiff shapefile into png. inputs: raser image (for reference size), output png file name\n",
    "shapetiff_to_png(clipped_image, shapetiff_name)"
   ]
  },
  {
   "cell_type": "markdown",
   "id": "f513e591-dc8d-48f6-9cbf-8aff9afc1ace",
   "metadata": {},
   "source": [
    "notes for improvement:\n",
    "-need to handle when shapefile extent doesn't go to edge of raser better in shapetiff_to_png\n",
    "-combine shape_to_tiff and shapetiff_to_png into new function\n",
    "-output mid way for numpy array of n dimensions to accomodate nir or 8 band planet images\n",
    "-accomodate sentinel-2 input imagery\n",
    "-identify number of input bands, ability to only use selected bands\n",
    "\n",
    "-convert back to shapefile after prediction made\n",
    "    -cv2 blobs from bitfile, get blob coordinates and convert to shapefile, create a yaml file to include centre and bounds of original image location\n",
    "-create functions to make prediction easier (integrate with docker?)"
   ]
  }
 ],
 "metadata": {
  "kernelspec": {
   "display_name": "Python 3 (ipykernel)",
   "language": "python",
   "name": "python3"
  },
  "language_info": {
   "codemirror_mode": {
    "name": "ipython",
    "version": 3
   },
   "file_extension": ".py",
   "mimetype": "text/x-python",
   "name": "python",
   "nbconvert_exporter": "python",
   "pygments_lexer": "ipython3",
   "version": "3.8.10"
  }
 },
 "nbformat": 4,
 "nbformat_minor": 5
}
